{
 "cells": [
  {
   "cell_type": "code",
   "execution_count": 1,
   "metadata": {},
   "outputs": [],
   "source": [
    "#load scikit learn libraries for cross validation and model fit\n",
    "import category_encoders as ce\n",
    "from sklearn.neighbors import KNeighborsRegressor\n",
    "from sklearn.preprocessing import MinMaxScaler\n",
    "from sklearn.pipeline import Pipeline\n",
    "from sklearn.preprocessing import OneHotEncoder\n",
    "from sklearn.impute import SimpleImputer\n",
    "from sklearn.preprocessing import StandardScaler\n",
    "import re\n",
    "from sklearn.model_selection import train_test_split\n",
    "import numpy as np\n",
    "import pandas as pd"
   ]
  },
  {
   "cell_type": "code",
   "execution_count": 2,
   "metadata": {},
   "outputs": [],
   "source": [
    "#load movie data\n",
    "cleaned_movies = pd.read_csv(\"cleaned_movies.csv\")"
   ]
  },
  {
   "cell_type": "code",
   "execution_count": 3,
   "metadata": {},
   "outputs": [],
   "source": [
    "# transform the gross_earn to log\n",
    "cleaned_movies['log_gross_earn'] = np.log(cleaned_movies['gross_earn'] + 1)"
   ]
  },
  {
   "cell_type": "code",
   "execution_count": 4,
   "metadata": {},
   "outputs": [
    {
     "data": {
      "text/plain": [
       "Index(['poster', 'title', 'certificate', 'runtime', 'genre', 'rating', 'about',\n",
       "       'director', 'stars', 'votes', 'gross_earn', 'director_avg_earn',\n",
       "       'log_gross_earn'],\n",
       "      dtype='object')"
      ]
     },
     "execution_count": 4,
     "metadata": {},
     "output_type": "execute_result"
    }
   ],
   "source": [
    "cleaned_movies.columns"
   ]
  },
  {
   "cell_type": "code",
   "execution_count": 19,
   "metadata": {},
   "outputs": [
    {
     "data": {
      "text/plain": [
       "1501    3.887935\n",
       "2586    4.286754\n",
       "2653    3.946424\n",
       "1055    3.993787\n",
       "705     4.618284\n",
       "          ...   \n",
       "4711    0.139762\n",
       "2313    0.223144\n",
       "3214    2.200552\n",
       "2732    3.605770\n",
       "1926    4.237290\n",
       "Name: log_gross_earn, Length: 1000, dtype: float64"
      ]
     },
     "execution_count": 19,
     "metadata": {},
     "output_type": "execute_result"
    }
   ],
   "source": [
    "#split training and test data and y\n",
    "X = cleaned_movies.drop(columns = ['log_gross_earn','stars','poster','title', 'certificate','gross_earn','director','about'])\n",
    "y = cleaned_movies['log_gross_earn']\n",
    "\n",
    "X_train, X_test, y_train, y_test = train_test_split(X, y, test_size=0.2, random_state=42)\n",
    "X_train\n",
    "X_test\n",
    "y_train\n",
    "y_test"
   ]
  },
  {
   "cell_type": "code",
   "execution_count": 20,
   "metadata": {},
   "outputs": [
    {
     "data": {
      "text/html": [
       "<div>\n",
       "<style scoped>\n",
       "    .dataframe tbody tr th:only-of-type {\n",
       "        vertical-align: middle;\n",
       "    }\n",
       "\n",
       "    .dataframe tbody tr th {\n",
       "        vertical-align: top;\n",
       "    }\n",
       "\n",
       "    .dataframe thead th {\n",
       "        text-align: right;\n",
       "    }\n",
       "</style>\n",
       "<table border=\"1\" class=\"dataframe\">\n",
       "  <thead>\n",
       "    <tr style=\"text-align: right;\">\n",
       "      <th></th>\n",
       "      <th>runtime</th>\n",
       "      <th>genre</th>\n",
       "      <th>rating</th>\n",
       "      <th>votes</th>\n",
       "      <th>director_avg_earn</th>\n",
       "    </tr>\n",
       "  </thead>\n",
       "  <tbody>\n",
       "    <tr>\n",
       "      <th>0</th>\n",
       "      <td>142.0</td>\n",
       "      <td>Drama</td>\n",
       "      <td>9.3</td>\n",
       "      <td>2626905.0</td>\n",
       "      <td>54.635000</td>\n",
       "    </tr>\n",
       "    <tr>\n",
       "      <th>1</th>\n",
       "      <td>152.0</td>\n",
       "      <td>Action, Crime, Drama</td>\n",
       "      <td>9.0</td>\n",
       "      <td>2598173.0</td>\n",
       "      <td>201.832222</td>\n",
       "    </tr>\n",
       "    <tr>\n",
       "      <th>2</th>\n",
       "      <td>148.0</td>\n",
       "      <td>Action, Adventure, Sci-Fi</td>\n",
       "      <td>8.8</td>\n",
       "      <td>2304062.0</td>\n",
       "      <td>201.832222</td>\n",
       "    </tr>\n",
       "    <tr>\n",
       "      <th>3</th>\n",
       "      <td>139.0</td>\n",
       "      <td>Drama</td>\n",
       "      <td>8.8</td>\n",
       "      <td>2071088.0</td>\n",
       "      <td>86.519000</td>\n",
       "    </tr>\n",
       "    <tr>\n",
       "      <th>4</th>\n",
       "      <td>154.0</td>\n",
       "      <td>Crime, Drama</td>\n",
       "      <td>8.9</td>\n",
       "      <td>2011013.0</td>\n",
       "      <td>78.026250</td>\n",
       "    </tr>\n",
       "    <tr>\n",
       "      <th>...</th>\n",
       "      <td>...</td>\n",
       "      <td>...</td>\n",
       "      <td>...</td>\n",
       "      <td>...</td>\n",
       "      <td>...</td>\n",
       "    </tr>\n",
       "    <tr>\n",
       "      <th>4995</th>\n",
       "      <td>102.0</td>\n",
       "      <td>Comedy, Drama, Musical</td>\n",
       "      <td>7.3</td>\n",
       "      <td>25112.0</td>\n",
       "      <td>10.563333</td>\n",
       "    </tr>\n",
       "    <tr>\n",
       "      <th>4996</th>\n",
       "      <td>94.0</td>\n",
       "      <td>Comedy, Romance</td>\n",
       "      <td>5.9</td>\n",
       "      <td>28515.0</td>\n",
       "      <td>47.625520</td>\n",
       "    </tr>\n",
       "    <tr>\n",
       "      <th>4997</th>\n",
       "      <td>106.0</td>\n",
       "      <td>Comedy, Drama, Romance</td>\n",
       "      <td>8.1</td>\n",
       "      <td>23957.0</td>\n",
       "      <td>47.625520</td>\n",
       "    </tr>\n",
       "    <tr>\n",
       "      <th>4998</th>\n",
       "      <td>92.0</td>\n",
       "      <td>Comedy, Drama, Family</td>\n",
       "      <td>7.0</td>\n",
       "      <td>21536.0</td>\n",
       "      <td>5.750000</td>\n",
       "    </tr>\n",
       "    <tr>\n",
       "      <th>4999</th>\n",
       "      <td>120.0</td>\n",
       "      <td>Drama, Western</td>\n",
       "      <td>7.6</td>\n",
       "      <td>25097.0</td>\n",
       "      <td>27.207778</td>\n",
       "    </tr>\n",
       "  </tbody>\n",
       "</table>\n",
       "<p>5000 rows × 5 columns</p>\n",
       "</div>"
      ],
      "text/plain": [
       "      runtime                      genre  rating      votes  director_avg_earn\n",
       "0       142.0                      Drama     9.3  2626905.0          54.635000\n",
       "1       152.0       Action, Crime, Drama     9.0  2598173.0         201.832222\n",
       "2       148.0  Action, Adventure, Sci-Fi     8.8  2304062.0         201.832222\n",
       "3       139.0                      Drama     8.8  2071088.0          86.519000\n",
       "4       154.0               Crime, Drama     8.9  2011013.0          78.026250\n",
       "...       ...                        ...     ...        ...                ...\n",
       "4995    102.0     Comedy, Drama, Musical     7.3    25112.0          10.563333\n",
       "4996     94.0            Comedy, Romance     5.9    28515.0          47.625520\n",
       "4997    106.0     Comedy, Drama, Romance     8.1    23957.0          47.625520\n",
       "4998     92.0      Comedy, Drama, Family     7.0    21536.0           5.750000\n",
       "4999    120.0             Drama, Western     7.6    25097.0          27.207778\n",
       "\n",
       "[5000 rows x 5 columns]"
      ]
     },
     "execution_count": 20,
     "metadata": {},
     "output_type": "execute_result"
    }
   ],
   "source": [
    "X"
   ]
  },
  {
   "cell_type": "code",
   "execution_count": 23,
   "metadata": {},
   "outputs": [],
   "source": [
    "from sklearn.pipeline import Pipeline\n",
    "from sklearn.preprocessing import OneHotEncoder, StandardScaler\n",
    "from sklearn.impute import SimpleImputer\n",
    "from sklearn.neighbors import KNeighborsRegressor\n",
    "from sklearn.compose import ColumnTransformer\n",
    "\n",
    "# Define categorical and numerical feature columns\n",
    "categorical_features = ['genre']\n",
    "numerical_features = ['runtime', 'rating', 'votes', 'director_avg_earn']\n",
    "\n",
    "# Define the preprocessing steps\n",
    "categorical_transformer = Pipeline(steps=[\n",
    "    ('imputer', SimpleImputer(strategy='most_frequent')),\n",
    "    ('onehot', OneHotEncoder(handle_unknown='ignore'))\n",
    "])\n",
    "\n",
    "numerical_transformer = Pipeline(steps=[\n",
    "    ('imputer', SimpleImputer(strategy='mean')),\n",
    "    ('scaler', StandardScaler())\n",
    "])\n",
    "\n",
    "# Combine the transformers using ColumnTransformer\n",
    "preprocessor = ColumnTransformer(\n",
    "    transformers=[\n",
    "        ('cat', categorical_transformer, categorical_features),\n",
    "        ('num', numerical_transformer, numerical_features)\n",
    "    ])\n"
   ]
  },
  {
   "cell_type": "code",
   "execution_count": 24,
   "metadata": {},
   "outputs": [
    {
     "name": "stdout",
     "output_type": "stream",
     "text": [
      "Best K: 7\n",
      "Best Metric: manhattan\n",
      "Best Weights: distance\n"
     ]
    }
   ],
   "source": [
    "from sklearn.model_selection import GridSearchCV\n",
    "\n",
    "# Define the parameter grid for KNeighborsRegressor\n",
    "param_grid = {\n",
    "    'n_neighbors': [3, 5, 7],  # Experiment with different k values\n",
    "    'metric': ['euclidean', 'manhattan'],  # Choose distance metric\n",
    "    'weights': ['uniform', 'distance']  # Choose weighting scheme\n",
    "}\n",
    "\n",
    "# Create a pipeline with GridSearchCV for KNeighborsRegressor\n",
    "pipeline = Pipeline(steps=[\n",
    "    ('preprocessor', preprocessor),\n",
    "    ('knn', GridSearchCV(KNeighborsRegressor(), param_grid=param_grid))\n",
    "])\n",
    "\n",
    "# Fit the pipeline to the training data\n",
    "pipeline.fit(X_train, y_train)\n",
    "\n",
    "# Get the best estimator from the pipeline\n",
    "best_estimator = pipeline.named_steps['knn'].best_estimator_\n",
    "\n",
    "# Get the best k value and other hyperparameters\n",
    "best_k = best_estimator.n_neighbors  # View the chosen k\n",
    "best_metric = best_estimator.metric\n",
    "best_weights = best_estimator.weights\n",
    "\n",
    "print(\"Best K:\", best_k)\n",
    "print(\"Best Metric:\", best_metric)\n",
    "print(\"Best Weights:\", best_weights)\n",
    "\n",
    "# Make predictions using the best hyperparameters\n",
    "y_pred = pipeline.predict(X_test)"
   ]
  },
  {
   "cell_type": "code",
   "execution_count": 25,
   "metadata": {},
   "outputs": [
    {
     "name": "stdout",
     "output_type": "stream",
     "text": [
      "RMSE (Original Scale): 36.15865667950502\n"
     ]
    }
   ],
   "source": [
    "import numpy as np\n",
    "from sklearn.metrics import mean_squared_error\n",
    "# Exponentiate the predicted and actual values to get them back to the original scale\n",
    "y_pred_original = np.exp(y_pred)\n",
    "y_test_original = np.exp(y_test)\n",
    "\n",
    "# Calculate RMSE in the original scale\n",
    "rmse_original = np.sqrt(mean_squared_error(y_test_original, y_pred_original))\n",
    "print(f\"RMSE (Original Scale): {rmse_original}\")"
   ]
  },
  {
   "cell_type": "code",
   "execution_count": 26,
   "metadata": {},
   "outputs": [
    {
     "name": "stdout",
     "output_type": "stream",
     "text": [
      "R² Score (Original Scale): 0.6089000304843739\n",
      "MAE (Original Scale): 21.478211273841175\n"
     ]
    }
   ],
   "source": [
    "from sklearn.metrics import r2_score, mean_absolute_error\n",
    "\n",
    "# Exponentiate the predictions and actual values to the original scale\n",
    "y_pred_original = np.exp(y_pred)\n",
    "y_test_original = np.exp(y_test)\n",
    "\n",
    "# Calculate R² score\n",
    "r2 = r2_score(y_test_original, y_pred_original)\n",
    "print(f\"R² Score (Original Scale): {r2}\")\n",
    "\n",
    "# Calculate Mean Absolute Error (MAE)\n",
    "mae = mean_absolute_error(y_test_original, y_pred_original)\n",
    "print(f\"MAE (Original Scale): {mae}\")"
   ]
  },
  {
   "cell_type": "code",
   "execution_count": 27,
   "metadata": {},
   "outputs": [
    {
     "data": {
      "image/png": "[encoded data removed]",
      "text/plain": [
       "<Figure size 640x480 with 1 Axes>"
      ]
     },
     "metadata": {},
     "output_type": "display_data"
    }
   ],
   "source": [
    "import matplotlib.pyplot as plt\n",
    "\n",
    "# Scatter plot for actual vs predicted\n",
    "plt.scatter(y_test_original, y_pred_original)\n",
    "plt.plot([min(y_test_original), max(y_test_original)], [min(y_test_original), max(y_test_original)], color='red')\n",
    "plt.xlabel(\"Actual Gross Earnings\")\n",
    "plt.ylabel(\"Predicted Gross Earnings\")\n",
    "plt.title(\"Predicted vs Actual Gross Earnings\")\n",
    "plt.show()"
   ]
  },
  {
   "cell_type": "markdown",
   "metadata": {},
   "source": [
    "Based on these observations of this scatterplot, we can conclude that the KNN model is not a perfect predictor of movie gross earnings. It has some limitations in accurately predicting the exact value. However, it does capture the general trend and provides a reasonable estimate in many cases."
   ]
  },
  {
   "cell_type": "markdown",
   "metadata": {},
   "source": [
    "The above KNN is an improvement from a previous KNN model we tried.  It seems to improve our model using one hot encoding for the categorical variables instead of using target encoding.  The KNN model is still not optimal in it's results so it will be helpful to try other models and see their predictive performance."
   ]
  }
 ],
 "metadata": {
  "kernelspec": {
   "display_name": "cs110",
   "language": "python",
   "name": "python3"
  },
  "language_info": {
   "codemirror_mode": {
    "name": "ipython",
    "version": 3
   },
   "file_extension": ".py",
   "mimetype": "text/x-python",
   "name": "python",
   "nbconvert_exporter": "python",
   "pygments_lexer": "ipython3",
   "version": "3.12.3"
  }
 },
 "nbformat": 4,
 "nbformat_minor": 2
}
